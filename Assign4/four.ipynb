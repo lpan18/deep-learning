{
 "cells": [
  {
   "cell_type": "markdown",
   "metadata": {},
   "source": [
    "## Deep Learning Course (980)\n",
    "## Assignment Four \n",
    "\n",
    "__Assignment Goals__:\n",
    "\n",
    "- Implementing Fully Connected AutoEncoders\n",
    "- Implementing Convolutional AutoEncoders\n",
    "- Understand Variational Autoncoder intuition\n",
    "\n",
    "\n",
    "In this assignment, you will be asked to design a Fully Connected and a CNN AutoEncoder. With a simple change in your Fully Connected AutoEncoder, you will become more familiar with Variational AutoEncoder. \n",
    "\n",
    "__DataSet:__ In this Assignment, you will use the MNIST handwritten digit database. You can use  (x_train, _), (x_test, _)  = tensorflow.keras.datasets.mnist.load_data() to load the dataset.\n",
    "\n",
    "1. (30 points) Implement a Fully Connected AutoEncoder in TensorFlow (cf. Chapter 7). Your AutoEncoder should have a bottleneck with two neurons and Mean Squared Error (MSE) as the objective function. In an AutoEncoder, the layer with the least number of neurons is referred to as a bottleneck. Train your model on MNIST. Plot the train and test loss. Randomly select 10 images from the test set, encode them and visualize the decoded images.\n",
    "     \n",
    "2. (35 points) Implement a convolutional AutoEncoder (CAE) that uses only the following types of layers: convolution, pooling, upsampling and transpose. You are limited to use MSE. The encoder and decoder should include one or more layers, with the size and number of filters chosen by you. Start with a bottleneck of size 2, train your model on MNIST and plot the train and test loss. Randomly select 10 images from the test set, encode them and visualize the decoded images. Are the reconstructed images readable for humans? If not, try to find a CAE architecture, including a larger bottleneck, that is powerful enough to generate readable images. The bottleneck should be as small as possible for readability, this is part of the grading criteria.\n",
    "\n",
    "3. (35 points) This question is about using an AutoEncoder to generate similar but not identical hand digits. We use a naive approach: Try to see if a trained decoder can map randomly generated inputs (random numbers) to a recognizable hand-written digit. \n",
    "    1. Start with your Fully Connected and trained AutoEncoder from part 1. Try to generate new images by inputting some random numbers  to the decoder (i.e. the bottleneck layer) and report your results. Hint: This is not easy. You probably want to input at least 10 random numbers. \n",
    "    2. Now restrict the AutoEncoder hidden bottleneck layer(s) to have a standard multi-variate normal distribution with mean zeroes and the identity matrix as variance (i.e. no correlations). Retrain the Fully Connected AutoEncoder with the normalized bottleneck. Now randomly generate inputs to the bottleneck layer that are drawn from the multi-variate standard normal distribution, and use the random inputs to generate new images. Report your result.\n",
    "    3. Are the output images different between 1) and 2)? If so, why do you think this difference occurs?\n",
    "\n",
    "4. (20 points) Optional: change the AutoEncoder which you developed in the last part of section 3 so that it becomes a Variational AutoEncoder (Introduced by Kingma 2014; see Chapter 7.1). Does the VAE produce a different quality of output image?\n",
    "\n",
    "\n",
    "\n",
    "__Submission Notes__:\n",
    "\n",
    "Please use Jupyter Notebook. The notebook should include the final code, results, and answers. You should submit your Notebook in .pdf and .ipynb format. (penalty 10 points).\n",
    "Your AutoEncoders should have only one bottleneck.\n",
    " \n",
    "\n",
    "\n",
    "\n",
    "__Instructions__:\n",
    "\n",
    "The university policy on academic dishonesty and plagiarism (cheating) will be taken very seriously in this course. Everything submitted should be your writing or coding. You must not let other students copy your work. Spelling and grammar count.\n",
    "\n"
   ]
  },
  {
   "cell_type": "code",
   "execution_count": null,
   "metadata": {},
   "outputs": [],
   "source": [
    "import tensorflow as tf\n",
    "import numpy as np\n",
    "import matplotlib.pyplot as plt\n",
    "from keras.datasets import mnist\n",
    "from keras.models import Model\n",
    "from keras.layers import Input, Dense\n",
    "from keras import optimizers\n",
    "from keras.callbacks import CSVLogger, ModelCheckpoint"
   ]
  },
  {
   "cell_type": "code",
   "execution_count": null,
   "metadata": {},
   "outputs": [],
   "source": [
    "# Load data\n",
    "(x_train, _), (x_test, _) = mnist.load_data()\n",
    "x_train = x_train.astype('float32') / 255.\n",
    "x_test = x_test.astype('float32') / 255.\n",
    "x_train = x_train.reshape((len(x_train), np.prod(x_train.shape[1:])))\n",
    "x_test = x_test.reshape((len(x_test), np.prod(x_test.shape[1:])))\n",
    "print('x_train shape: ', x_train.shape)\n",
    "print('x_test shape: ', x_test.shape)"
   ]
  },
  {
   "cell_type": "code",
   "execution_count": null,
   "metadata": {},
   "outputs": [],
   "source": [
    "# Build model\n",
    "input_dim = x_train.shape[1] # 784\n",
    "input_img = Input(shape=(input_dim,))\n",
    "x = Dense(32, activation='relu')(input_img)\n",
    "x = Dense(16, activation='relu')(x)\n",
    "encoded = Dense(2, activation='relu')(x)\n",
    "x = Dense(16, activation='relu')(encoded)\n",
    "x = Dense(32, activation='relu')(x)\n",
    "decoded = Dense(input_dim, activation='sigmoid')(x)\n",
    "\n",
    "fc_autoencoder = Model(input_img, decoded, name='fc_autoencoder')\n",
    "fc_autoencoder.summary()"
   ]
  },
  {
   "cell_type": "code",
   "execution_count": null,
   "metadata": {},
   "outputs": [],
   "source": [
    "# Training\n",
    "result_root_folder = 'fc_autoencoder'\n",
    "checkpointer = ModelCheckpoint(\n",
    "        filepath=result_root_folder+'/epoch-{epoch:02d}-accu-{val_accuracy:.4f}.hdf5',\n",
    "        monitor='val_accuracy',\n",
    "        verbose=1,\n",
    "        save_best_only=True, mode='auto', period=10)\n",
    "logfile = CSVLogger(result_root_folder+'/train.log', append=False, separator=',')\n",
    "# adam = keras.optimizers.Adam(lr=0.001)\n",
    "fc_autoencoder.compile(optimizer='adam', loss='mean_squared_error', metrics=['accuracy'])\n",
    "history = fc_autoencoder.fit(x_train, x_train,\n",
    "        batch_size=256,\n",
    "        epochs=1,#50,\n",
    "        verbose=1,\n",
    "        callbacks=[checkpointer, logfile],\n",
    "        shuffle=True,\n",
    "        validation_data=(x_test, x_test),\n",
    "        workers=4)"
   ]
  },
  {
   "cell_type": "code",
   "execution_count": null,
   "metadata": {},
   "outputs": [],
   "source": [
    "# Displaying curves of loss and accuracy\n",
    "acc = history.history['accuracy']\n",
    "val_acc = history.history['val_accuracy']\n",
    "loss = history.history['loss']\n",
    "val_loss = history.history['val_loss']\n",
    "epochs = range(1, len(acc) + 1)\n",
    "plt.plot(epochs, acc, 'bo', label='Training acc')\n",
    "plt.plot(epochs, val_acc, 'b', label='Validation acc')\n",
    "plt.title('Training and validation accuracy')\n",
    "plt.legend()\n",
    "plt.savefig(result_root_folder+'/accuracy.png')\n",
    "plt.figure()\n",
    "plt.plot(epochs, loss, 'bo', label='Training loss')\n",
    "plt.plot(epochs, val_loss, 'b', label='Validation loss')\n",
    "plt.title('Training and validation loss')\n",
    "plt.legend()\n",
    "plt.savefig(result_root_folder+'/loss.png')"
   ]
  },
  {
   "cell_type": "code",
   "execution_count": null,
   "metadata": {},
   "outputs": [],
   "source": [
    "# Randomly select 10 images from the test set, encode them and visualize the decoded images.\n",
    "np.random.seed(0)\n",
    "n = 10\n",
    "decoded_images = fc_autoencoder.predict(x_test)\n",
    "\n",
    "rand_indices = np.random.randint(x_test.shape[0], size=n)\n",
    "plt.figure(figsize=(10, 2))\n",
    "plt.gray()\n",
    "for i in range(1, n):\n",
    "    ax = plt.subplot(2, n, i)\n",
    "    plt.imshow(x_test[rand_indices[i]].reshape(28, 28))\n",
    "    ax.get_xaxis().set_visible(False)\n",
    "    ax.get_yaxis().set_visible(False)\n",
    "    ax = plt.subplot(2, n, n + i)\n",
    "    plt.imshow(decoded_images[rand_indices[i]].reshape(28, 28))\n",
    "    ax.get_xaxis().set_visible(False)\n",
    "    ax.get_yaxis().set_visible(False)\n",
    "plt.show()"
   ]
  },
  {
   "cell_type": "markdown",
   "metadata": {},
   "source": [
    "2. (35 points) Implement a convolutional AutoEncoder (CAE) that uses only the following types of layers: convolution, pooling, upsampling and transpose. You are limited to use MSE. The encoder and decoder should include one or more layers, with the size and number of filters chosen by you. Start with a bottleneck of size 2, train your model on MNIST and plot the train and test loss. Randomly select 10 images from the test set, encode them and visualize the decoded images. Are the reconstructed images readable for humans? If not, try to find a CAE architecture, including a larger bottleneck, that is powerful enough to generate readable images. The bottleneck should be as small as possible for readability, this is part of the grading criteria."
   ]
  },
  {
   "cell_type": "code",
   "execution_count": null,
   "metadata": {},
   "outputs": [],
   "source": [
    "# Part 2\n",
    "import tensorflow as tf\n",
    "import numpy as np\n",
    "import matplotlib.pyplot as plt\n",
    "from keras.datasets import mnist\n",
    "from keras.models import Model\n",
    "from keras.layers import Input, Dense, Conv2D, MaxPooling2D, UpSampling2D\n",
    "from keras import optimizers\n",
    "from keras.callbacks import CSVLogger, ModelCheckpoint"
   ]
  },
  {
   "cell_type": "code",
   "execution_count": null,
   "metadata": {},
   "outputs": [],
   "source": [
    "# Load data if not already loaded\n",
    "(x_train, _), (x_test, _) = mnist.load_data()\n",
    "x_train = x_train.astype('float32') / 255.\n",
    "x_test = x_test.astype('float32') / 255.\n",
    "x_train = x_train.reshape((len(x_train), 28, 28, 1))\n",
    "x_test = x_test.reshape((len(x_test), 28, 28, 1))\n",
    "print(x_train.shape)\n",
    "print(x_test.shape)"
   ]
  },
  {
   "cell_type": "code",
   "execution_count": null,
   "metadata": {},
   "outputs": [],
   "source": [
    "# Build model\n",
    "# input_img = Input(shape=(28, 28, 1))\n",
    "# x = Conv2D(16, (3, 3), activation='relu', padding='same')(input_img)\n",
    "# x = MaxPooling2D((2, 2), padding='same')(x)\n",
    "# x = Conv2D(8, (3, 3), activation='relu', padding='same')(x)\n",
    "# x = MaxPooling2D((2, 2), padding='same')(x)\n",
    "# x = Conv2D(8, (3, 3), activation='relu', padding='same')(x)\n",
    "# encoded = MaxPooling2D((2, 2), padding='same')(x)\n",
    "# print(encoded.shape)\n",
    "# x = Conv2D(8, (3, 3), activation='relu', padding='same')(encoded)\n",
    "# x = UpSampling2D((2, 2))(x)\n",
    "# x = Conv2D(8, (3, 3), activation='relu', padding='same')(x)\n",
    "# x = UpSampling2D((2, 2))(x)\n",
    "# x = Conv2D(16, (3, 3), activation='relu')(x)\n",
    "# x = UpSampling2D((2, 2))(x)\n",
    "# decoded = Conv2D(1, (3, 3), activation='sigmoid', padding='same')(x)\n",
    "\n",
    "# conv_autoencoder = Model(input_img, decoded)\n",
    "# conv_autoencoder.summary()\n",
    "\n",
    "input_img = Input(shape=(28, 28, 1))\n",
    "x = Conv2D(16, (3, 3), activation='relu', padding='same')(input_img)\n",
    "x = MaxPooling2D((2, 2), padding='same')(x)\n",
    "x = Conv2D(8, (3, 3), activation='relu', padding='same')(x)\n",
    "x = MaxPooling2D((2, 2), padding='same')(x)\n",
    "x = Conv2D(8, (3, 3), activation='relu', padding='same')(x)\n",
    "encoded = MaxPooling2D((2, 2), padding='same')(x)\n",
    "print(encoded.shape)\n",
    "x = Conv2D(8, (3, 3), activation='relu', padding='same')(encoded)\n",
    "x = UpSampling2D((2, 2))(x)\n",
    "x = Conv2D(8, (3, 3), activation='relu', padding='same')(x)\n",
    "x = UpSampling2D((2, 2))(x)\n",
    "x = Conv2D(16, (3, 3), activation='relu')(x)\n",
    "x = UpSampling2D((2, 2))(x)\n",
    "decoded = Conv2D(1, (3, 3), activation='sigmoid', padding='same')(x)\n",
    "\n",
    "conv_autoencoder = Model(input_img, decoded, name='conv_autoencoder')\n",
    "conv_autoencoder.summary()"
   ]
  },
  {
   "cell_type": "code",
   "execution_count": null,
   "metadata": {},
   "outputs": [],
   "source": [
    "# Training\n",
    "result_root_folder = 'conv_autoencoder'\n",
    "checkpointer = ModelCheckpoint(\n",
    "        filepath=result_root_folder+'/epoch-{epoch:02d}-accu-{val_accuracy:.4f}.hdf5',\n",
    "        monitor='val_accuracy',\n",
    "        verbose=1,\n",
    "        save_best_only=True, mode='auto', period=10)\n",
    "logfile = CSVLogger(result_root_folder+'/train.log', append=False, separator=',')\n",
    "# adam = keras.optimizers.Adam(lr=0.001)\n",
    "conv_autoencoder.compile(optimizer='adam', loss='mean_squared_error', metrics=['accuracy'])\n",
    "history = conv_autoencoder.fit(x_train, x_train,\n",
    "        batch_size=256,\n",
    "        epochs=1,#50,\n",
    "        verbose=1,\n",
    "        callbacks=[checkpointer, logfile],\n",
    "        shuffle=True,\n",
    "        validation_data=(x_test, x_test),\n",
    "        workers=4)"
   ]
  },
  {
   "cell_type": "code",
   "execution_count": null,
   "metadata": {},
   "outputs": [],
   "source": [
    "# Displaying curves of loss and accuracy\n",
    "acc = history.history['accuracy']\n",
    "val_acc = history.history['val_accuracy']\n",
    "loss = history.history['loss']\n",
    "val_loss = history.history['val_loss']\n",
    "epochs = range(1, len(acc) + 1)\n",
    "plt.plot(epochs, acc, 'bo', label='Training acc')\n",
    "plt.plot(epochs, val_acc, 'b', label='Validation acc')\n",
    "plt.title('Training and validation accuracy')\n",
    "plt.legend()\n",
    "plt.savefig(result_root_folder+'/accuracy.png')\n",
    "plt.figure()\n",
    "plt.plot(epochs, loss, 'bo', label='Training loss')\n",
    "plt.plot(epochs, val_loss, 'b', label='Validation loss')\n",
    "plt.title('Training and validation loss')\n",
    "plt.legend()\n",
    "plt.savefig(result_root_folder+'/loss.png')"
   ]
  },
  {
   "cell_type": "code",
   "execution_count": null,
   "metadata": {},
   "outputs": [],
   "source": [
    "# Randomly select 10 images from the test set, encode them and visualize the decoded images.\n",
    "np.random.seed(0)\n",
    "n = 10\n",
    "decoded_images = conv_autoencoder.predict(x_test)\n",
    "\n",
    "rand_indices = np.random.randint(x_test.shape[0], size=n)\n",
    "plt.figure(figsize=(10, 2))\n",
    "plt.gray()\n",
    "for i in range(1, n):\n",
    "    ax = plt.subplot(2, n, i)\n",
    "    plt.imshow(x_test[rand_indices[i]].reshape(28, 28))\n",
    "    ax.get_xaxis().set_visible(False)\n",
    "    ax.get_yaxis().set_visible(False)\n",
    "    ax = plt.subplot(2, n, n + i)\n",
    "    plt.imshow(decoded_images[rand_indices[i]].reshape(28, 28))\n",
    "    ax.get_xaxis().set_visible(False)\n",
    "    ax.get_yaxis().set_visible(False)\n",
    "plt.show()"
   ]
  },
  {
   "cell_type": "markdown",
   "metadata": {},
   "source": [
    "3. (35 points) This question is about using an AutoEncoder to generate similar but not identical hand digits. We use a naive approach: Try to see if a trained decoder can map randomly generated inputs (random numbers) to a recognizable hand-written digit. \n",
    "    1. Start with your Fully Connected and trained AutoEncoder from part 1. Try to generate new images by inputting some random numbers  to the decoder (i.e. the bottleneck layer) and report your results. Hint: This is not easy. You probably want to input at least 10 random numbers. \n",
    "    2. Now restrict the AutoEncoder hidden bottleneck layer(s) to have a standard multi-variate normal distribution with mean zeroes and the identity matrix as variance (i.e. no correlations). Retrain the Fully Connected AutoEncoder with the normalized bottleneck. Now randomly generate inputs to the bottleneck layer that are drawn from the multi-variate standard normal distribution, and use the random inputs to generate new images. Report your result.\n",
    "    3. Are the output images different between 1) and 2)? If so, why do you think this difference occurs?"
   ]
  },
  {
   "cell_type": "code",
   "execution_count": null,
   "metadata": {},
   "outputs": [],
   "source": []
  },
  {
   "cell_type": "markdown",
   "metadata": {},
   "source": [
    "4. (20 points) Optional: change the AutoEncoder which you developed in the last part of section 3 so that it becomes a Variational AutoEncoder (Introduced by Kingma 2014; see Chapter 7.1). Does the VAE produce a different quality of output image?"
   ]
  },
  {
   "cell_type": "code",
   "execution_count": 1,
   "metadata": {},
   "outputs": [
    {
     "name": "stderr",
     "output_type": "stream",
     "text": [
      "Using TensorFlow backend.\n"
     ]
    }
   ],
   "source": [
    "import tensorflow as tf\n",
    "import numpy as np\n",
    "from scipy.stats import norm\n",
    "import matplotlib.pyplot as plt\n",
    "from keras.datasets import mnist\n",
    "from keras.models import Model\n",
    "from keras.layers import Input, Dense, Lambda\n",
    "from keras import backend as K\n",
    "from keras.losses import mse, binary_crossentropy\n",
    "from keras.callbacks import CSVLogger, ModelCheckpoint"
   ]
  },
  {
   "cell_type": "code",
   "execution_count": 2,
   "metadata": {},
   "outputs": [
    {
     "name": "stdout",
     "output_type": "stream",
     "text": [
      "x_train shape:  (60000, 784)\n",
      "x_test shape:  (10000, 784)\n"
     ]
    }
   ],
   "source": [
    "# Load data if not loaded\n",
    "(x_train, _), (x_test, _) = mnist.load_data()\n",
    "x_train = x_train.astype('float32') / 255.\n",
    "x_test = x_test.astype('float32') / 255.\n",
    "x_train = x_train.reshape((len(x_train), np.prod(x_train.shape[1:])))\n",
    "x_test = x_test.reshape((len(x_test), np.prod(x_test.shape[1:])))\n",
    "print('x_train shape: ', x_train.shape)\n",
    "print('x_test shape: ', x_test.shape)"
   ]
  },
  {
   "cell_type": "code",
   "execution_count": 3,
   "metadata": {},
   "outputs": [
    {
     "name": "stdout",
     "output_type": "stream",
     "text": [
      "Model: \"encoder\"\n",
      "__________________________________________________________________________________________________\n",
      "Layer (type)                    Output Shape         Param #     Connected to                     \n",
      "==================================================================================================\n",
      "input_1 (InputLayer)            (None, 784)          0                                            \n",
      "__________________________________________________________________________________________________\n",
      "dense_1 (Dense)                 (None, 256)          200960      input_1[0][0]                    \n",
      "__________________________________________________________________________________________________\n",
      "dense_2 (Dense)                 (None, 2)            514         dense_1[0][0]                    \n",
      "__________________________________________________________________________________________________\n",
      "dense_3 (Dense)                 (None, 2)            514         dense_1[0][0]                    \n",
      "__________________________________________________________________________________________________\n",
      "lambda_1 (Lambda)               (None, 2)            0           dense_2[0][0]                    \n",
      "                                                                 dense_3[0][0]                    \n",
      "==================================================================================================\n",
      "Total params: 201,988\n",
      "Trainable params: 201,988\n",
      "Non-trainable params: 0\n",
      "__________________________________________________________________________________________________\n",
      "Model: \"decoder\"\n",
      "_________________________________________________________________\n",
      "Layer (type)                 Output Shape              Param #   \n",
      "=================================================================\n",
      "input_2 (InputLayer)         (None, 2)                 0         \n",
      "_________________________________________________________________\n",
      "dense_4 (Dense)              (None, 256)               768       \n",
      "_________________________________________________________________\n",
      "dense_5 (Dense)              (None, 784)               201488    \n",
      "=================================================================\n",
      "Total params: 202,256\n",
      "Trainable params: 202,256\n",
      "Non-trainable params: 0\n",
      "_________________________________________________________________\n",
      "Model: \"vae\"\n",
      "_________________________________________________________________\n",
      "Layer (type)                 Output Shape              Param #   \n",
      "=================================================================\n",
      "input_1 (InputLayer)         (None, 784)               0         \n",
      "_________________________________________________________________\n",
      "encoder (Model)              [(None, 2), (None, 2), (N 201988    \n",
      "_________________________________________________________________\n",
      "decoder (Model)              (None, 784)               202256    \n",
      "=================================================================\n",
      "Total params: 404,244\n",
      "Trainable params: 404,244\n",
      "Non-trainable params: 0\n",
      "_________________________________________________________________\n"
     ]
    }
   ],
   "source": [
    "# Build model\n",
    "input_dim = x_train.shape[1] # 784\n",
    "latent_dim = 2\n",
    "\n",
    "def sampling(args):\n",
    "    z_mean, z_log_var = args\n",
    "    epsilon = K.random_normal(shape=(K.shape(z_mean)[0], latent_dim))\n",
    "    return z_mean + K.exp(0.5 * z_log_var) * epsilon\n",
    "\n",
    "# Encoder model\n",
    "input_img = Input(shape=(input_dim,))\n",
    "x = Dense(256, activation='relu')(input_img)\n",
    "z_mean = Dense(latent_dim)(x)\n",
    "z_log_var = Dense(latent_dim)(x)\n",
    "z = Lambda(sampling, output_shape=(latent_dim,))([z_mean, z_log_var])\n",
    "\n",
    "encoder = Model(input_img, [z_mean, z_log_var, z], name='encoder')\n",
    "encoder.summary()\n",
    "\n",
    "# Decoder model\n",
    "latent_inputs = Input(shape=(latent_dim,))\n",
    "x = Dense(256, activation='relu')(latent_inputs)\n",
    "decoded = Dense(input_dim, activation='sigmoid')(x)\n",
    "\n",
    "decoder = Model(latent_inputs, decoded, name='decoder')\n",
    "decoder.summary()\n",
    "\n",
    "# VAE model\n",
    "decoded = decoder(encoder(input_img)[2])\n",
    "vae = Model(input_img, decoded, name='vae')\n",
    "vae.summary()"
   ]
  },
  {
   "cell_type": "code",
   "execution_count": 4,
   "metadata": {},
   "outputs": [
    {
     "name": "stderr",
     "output_type": "stream",
     "text": [
      "/usr/local/lib/python3.7/site-packages/keras/engine/training_utils.py:819: UserWarning: Output decoder missing from loss dictionary. We assume this was done on purpose. The fit and evaluate APIs will not be expecting any data to be passed to decoder.\n",
      "  'be expecting any data to be passed to {0}.'.format(name))\n"
     ]
    },
    {
     "name": "stdout",
     "output_type": "stream",
     "text": [
      "Train on 60000 samples, validate on 10000 samples\n",
      "Epoch 1/1\n",
      "60000/60000 [==============================] - 4s 60us/step - loss: 205.5690 - val_loss: 176.7265\n"
     ]
    }
   ],
   "source": [
    "# Train\n",
    "result_root_folder = 'vae'\n",
    "checkpointer = ModelCheckpoint(\n",
    "        filepath=result_root_folder+'/epoch-{epoch:02d}-accu-{val_accuracy:.4f}.hdf5',\n",
    "        monitor='val_accuracy',\n",
    "        verbose=1,\n",
    "        save_best_only=True, mode='auto', period=10)\n",
    "logfile = CSVLogger(result_root_folder+'/train.log', append=False, separator=',')\n",
    "\n",
    "# Compute VAE loss = mse_loss/xent_loss + kl_loss\n",
    "xent_loss = input_dim * binary_crossentropy(input_img, decoded)\n",
    "kl_loss = - 0.5 * K.sum(1 + z_log_var - K.square(z_mean) - K.exp(z_log_var), axis=-1)\n",
    "vae_loss = K.mean(xent_loss + kl_loss)\n",
    "vae.add_loss(vae_loss)\n",
    "\n",
    "# adam = keras.optimizers.Adam(lr=0.001)\n",
    "vae.compile(optimizer='adam', metrics=['accuracy'])\n",
    "\n",
    "history = vae.fit(x_train,\n",
    "        batch_size=128,\n",
    "        epochs=1,#50,\n",
    "        verbose=1,\n",
    "        callbacks=[checkpointer, logfile],\n",
    "        shuffle=True,\n",
    "        validation_data=(x_test, None),\n",
    "        workers=4)"
   ]
  },
  {
   "cell_type": "code",
   "execution_count": 12,
   "metadata": {},
   "outputs": [
    {
     "data": {
      "image/png": "[encoded data removed]",
      "text/plain": [
       "<Figure size 360x360 with 1 Axes>"
      ]
     },
     "metadata": {
      "needs_background": "light"
     },
     "output_type": "display_data"
    }
   ],
   "source": [
    "# # Randomly select 10 images from the test set, encode them and visualize the decoded images.\n",
    "# np.random.seed(0)\n",
    "# n = 10\n",
    "# decoded_images = vae.predict(x_test)\n",
    "\n",
    "# rand_indices = np.random.randint(x_test.shape[0], size=n)\n",
    "# plt.figure(figsize=(10, 2))\n",
    "# plt.gray()\n",
    "# for i in range(1, n):\n",
    "#     ax = plt.subplot(2, n, i)\n",
    "#     plt.imshow(x_test[rand_indices[i]].reshape(28, 28))\n",
    "#     ax.get_xaxis().set_visible(False)\n",
    "#     ax.get_yaxis().set_visible(False)\n",
    "#     ax = plt.subplot(2, n, n + i)\n",
    "#     plt.imshow(decoded_images[rand_indices[i]].reshape(28, 28))\n",
    "#     ax.get_xaxis().set_visible(False)\n",
    "#     ax.get_yaxis().set_visible(False)\n",
    "# plt.show()\n",
    "\n",
    "n = 5\n",
    "figure = np.zeros((28 * n, 28 * n))\n",
    "grid_x = norm.ppf(np.linspace(0.05, 0.95, n))\n",
    "grid_y = norm.ppf(np.linspace(0.05, 0.95, n))\n",
    "\n",
    "plt.figure(figsize=(5, 5))\n",
    "plt.gray()\n",
    "\n",
    "for i, yi in enumerate(grid_x):\n",
    "    for j, xi in enumerate(grid_y):\n",
    "        z_sample = np.array([[xi, yi]])\n",
    "#         print(z_sample)\n",
    "        decoded_images = decoder.predict(z_sample)\n",
    "        digit = decoded_images[0].reshape(28, 28)\n",
    "        figure[i * 28: (i + 1) * 28, j * 28: (j + 1) * 28] = digit\n",
    "plt.imshow(figure)\n",
    "plt.show()"
   ]
  }
 ],
 "metadata": {
  "kernelspec": {
   "display_name": "Python 3",
   "language": "python",
   "name": "python3"
  },
  "language_info": {
   "codemirror_mode": {
    "name": "ipython",
    "version": 3
   },
   "file_extension": ".py",
   "mimetype": "text/x-python",
   "name": "python",
   "nbconvert_exporter": "python",
   "pygments_lexer": "ipython3",
   "version": "3.7.6"
  }
 },
 "nbformat": 4,
 "nbformat_minor": 2
}
