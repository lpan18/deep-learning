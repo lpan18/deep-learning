{
 "cells": [
  {
   "cell_type": "markdown",
   "metadata": {},
   "source": [
    "## Deep Learning Course (980)\n",
    "## Assignment Four \n",
    "\n",
    "__Assignment Goals__:\n",
    "\n",
    "- Implementing Fully Connected AutoEncoders\n",
    "- Implementing Convolutional AutoEncoders\n",
    "- Understand Variational Autoncoder intuition\n",
    "\n",
    "\n",
    "In this assignment, you will be asked to design a Fully Connected and a CNN AutoEncoder. With a simple change in your Fully Connected AutoEncoder, you will become more familiar with Variational AutoEncoder. \n",
    "\n",
    "__DataSet:__ In this Assignment, you will use the MNIST handwritten digit database. You can use  (x_train, _), (x_test, _)  = tensorflow.keras.datasets.mnist.load_data() to load the dataset.\n",
    "\n",
    "1. (30 points) Implement a Fully Connected AutoEncoder in TensorFlow (cf. Chapter 7). Your AutoEncoder should have a bottleneck with two neurons and Mean Squared Error (MSE) as the objective function. In an AutoEncoder, the layer with the least number of neurons is referred to as a bottleneck. Train your model on MNIST. Plot the train and test loss. Randomly select 10 images from the test set, encode them and visualize the decoded images.\n",
    "     \n",
    "2. (35 points) Implement a convolutional AutoEncoder (CAE) that uses only the following types of layers: convolution, pooling, upsampling and transpose. You are limited to use MSE. The encoder and decoder should include one or more layers, with the size and number of filters chosen by you. Start with a bottleneck of size 2, train your model on MNIST and plot the train and test loss. Randomly select 10 images from the test set, encode them and visualize the decoded images. Are the reconstructed images readable for humans? If not, try to find a CAE architecture, including a larger bottleneck, that is powerful enough to generate readable images. The bottleneck should be as small as possible for readability, this is part of the grading criteria.\n",
    "\n",
    "3. (35 points) This question is about using an AutoEncoder to generate similar but not identical hand digits. We use a naive approach: Try to see if a trained decoder can map randomly generated inputs (random numbers) to a recognizable hand-written digit. \n",
    "    1. Start with your Fully Connected and trained AutoEncoder from part 1. Try to generate new images by inputting some random numbers  to the decoder (i.e. the bottleneck layer) and report your results. Hint: This is not easy. You probably want to input at least 10 random numbers. \n",
    "    2. Now restrict the AutoEncoder hidden bottleneck layer(s) to have a standard multi-variate normal distribution with mean zeroes and the identity matrix as variance (i.e. no correlations). Retrain the Fully Connected AutoEncoder with the normalized bottleneck. Now randomly generate inputs to the bottleneck layer that are drawn from the multi-variate standard normal distribution, and use the random inputs to generate new images. Report your result.\n",
    "    3. Are the output images different between 1) and 2)? If so, why do you think this difference occurs?\n",
    "\n",
    "4. (20 points) Optional: change the AutoEncoder which you developed in the last part of section 3 so that it becomes a Variational AutoEncoder (Introduced by Kingma 2014; see Chapter 7.1). Does the VAE produce a different quality of output image?\n",
    "\n",
    "\n",
    "\n",
    "__Submission Notes__:\n",
    "\n",
    "Please use Jupyter Notebook. The notebook should include the final code, results, and answers. You should submit your Notebook in .pdf and .ipynb format. (penalty 10 points).\n",
    "Your AutoEncoders should have only one bottleneck.\n",
    " \n",
    "\n",
    "\n",
    "\n",
    "__Instructions__:\n",
    "\n",
    "The university policy on academic dishonesty and plagiarism (cheating) will be taken very seriously in this course. Everything submitted should be your writing or coding. You must not let other students copy your work. Spelling and grammar count.\n",
    "\n"
   ]
  },
  {
   "cell_type": "code",
   "execution_count": 1,
   "metadata": {},
   "outputs": [
    {
     "name": "stderr",
     "output_type": "stream",
     "text": [
      "Using TensorFlow backend.\n"
     ]
    }
   ],
   "source": [
    "import tensorflow as tf\n",
    "import numpy as np\n",
    "import matplotlib.pyplot as plt\n",
    "from keras.datasets import mnist\n",
    "from keras.models import Model\n",
    "from keras.layers import Input, Dense\n",
    "from keras import optimizers\n",
    "from keras.callbacks import CSVLogger, ModelCheckpoint"
   ]
  },
  {
   "cell_type": "code",
   "execution_count": 2,
   "metadata": {},
   "outputs": [
    {
     "name": "stdout",
     "output_type": "stream",
     "text": [
      "x_train shape:  (60000, 784)\n",
      "x_test shape:  (10000, 784)\n"
     ]
    }
   ],
   "source": [
    "# Load data\n",
    "(x_train, _), (x_test, _) = mnist.load_data()\n",
    "x_train = x_train.astype('float32') / 255.\n",
    "x_test = x_test.astype('float32') / 255.\n",
    "x_train = x_train.reshape((len(x_train), np.prod(x_train.shape[1:])))\n",
    "x_test = x_test.reshape((len(x_test), np.prod(x_test.shape[1:])))\n",
    "print('x_train shape: ', x_train.shape)\n",
    "print('x_test shape: ', x_test.shape)"
   ]
  },
  {
   "cell_type": "code",
   "execution_count": 3,
   "metadata": {},
   "outputs": [
    {
     "name": "stdout",
     "output_type": "stream",
     "text": [
      "Model: \"fc_encoder\"\n",
      "_________________________________________________________________\n",
      "Layer (type)                 Output Shape              Param #   \n",
      "=================================================================\n",
      "input_1 (InputLayer)         (None, 784)               0         \n",
      "_________________________________________________________________\n",
      "dense_1 (Dense)              (None, 32)                25120     \n",
      "_________________________________________________________________\n",
      "dense_2 (Dense)              (None, 16)                528       \n",
      "_________________________________________________________________\n",
      "dense_3 (Dense)              (None, 2)                 34        \n",
      "=================================================================\n",
      "Total params: 25,682\n",
      "Trainable params: 25,682\n",
      "Non-trainable params: 0\n",
      "_________________________________________________________________\n",
      "Model: \"fc_decoder\"\n",
      "_________________________________________________________________\n",
      "Layer (type)                 Output Shape              Param #   \n",
      "=================================================================\n",
      "input_2 (InputLayer)         (None, 2)                 0         \n",
      "_________________________________________________________________\n",
      "dense_4 (Dense)              (None, 16)                48        \n",
      "_________________________________________________________________\n",
      "dense_5 (Dense)              (None, 32)                544       \n",
      "_________________________________________________________________\n",
      "dense_6 (Dense)              (None, 784)               25872     \n",
      "=================================================================\n",
      "Total params: 26,464\n",
      "Trainable params: 26,464\n",
      "Non-trainable params: 0\n",
      "_________________________________________________________________\n",
      "Model: \"fc_autoencoder\"\n",
      "_________________________________________________________________\n",
      "Layer (type)                 Output Shape              Param #   \n",
      "=================================================================\n",
      "input_1 (InputLayer)         (None, 784)               0         \n",
      "_________________________________________________________________\n",
      "fc_encoder (Model)           (None, 2)                 25682     \n",
      "_________________________________________________________________\n",
      "fc_decoder (Model)           (None, 784)               26464     \n",
      "=================================================================\n",
      "Total params: 52,146\n",
      "Trainable params: 52,146\n",
      "Non-trainable params: 0\n",
      "_________________________________________________________________\n"
     ]
    }
   ],
   "source": [
    "# Build model\n",
    "intermidiate1_dim = 32\n",
    "intermidiate2_dim = 16\n",
    "latent_dim = 2\n",
    "\n",
    "input_dim = x_train.shape[1] # 784\n",
    "\n",
    "# Encoder\n",
    "input_img = Input(shape=(input_dim,))\n",
    "x = Dense(intermidiate1_dim, activation='relu')(input_img)\n",
    "x = Dense(intermidiate2_dim, activation='relu')(x)\n",
    "encoded = Dense(latent_dim, activation='relu')(x)\n",
    "\n",
    "fc_encoder = Model(input_img, encoded, name='fc_encoder')\n",
    "fc_encoder.summary()\n",
    "\n",
    "# Decoder\n",
    "latent_inputs = Input(shape=(latent_dim,))\n",
    "x = Dense(intermidiate2_dim, activation='relu')(latent_inputs)\n",
    "x = Dense(intermidiate1_dim, activation='relu')(x)\n",
    "decoded = Dense(input_dim, activation='sigmoid')(x)\n",
    "\n",
    "fc_decoder = Model(latent_inputs, decoded, name='fc_decoder')\n",
    "fc_decoder.summary()\n",
    "\n",
    "# FC-autoencoder\n",
    "outputs = fc_decoder(fc_encoder(input_img))\n",
    "fc_autoencoder = Model(input_img, outputs, name='fc_autoencoder')\n",
    "fc_autoencoder.summary()"
   ]
  },
  {
   "cell_type": "code",
   "execution_count": 4,
   "metadata": {},
   "outputs": [
    {
     "name": "stdout",
     "output_type": "stream",
     "text": [
      "Train on 60000 samples, validate on 10000 samples\n",
      "Epoch 1/3\n",
      "60000/60000 [==============================] - 1s 23us/step - loss: 0.0889 - accuracy: 0.0086 - val_loss: 0.0674 - val_accuracy: 0.0151\n",
      "Epoch 2/3\n",
      "60000/60000 [==============================] - 1s 19us/step - loss: 0.0629 - accuracy: 0.0108 - val_loss: 0.0602 - val_accuracy: 0.0129\n",
      "Epoch 3/3\n",
      "60000/60000 [==============================] - 1s 18us/step - loss: 0.0591 - accuracy: 0.0115 - val_loss: 0.0573 - val_accuracy: 0.0189\n"
     ]
    }
   ],
   "source": [
    "# Training\n",
    "result_root_folder = 'fc_autoencoder'\n",
    "checkpointer = ModelCheckpoint(\n",
    "        filepath=result_root_folder+'/epoch-{epoch:02d}-accu-{val_accuracy:.4f}.hdf5',\n",
    "        monitor='val_accuracy',\n",
    "        verbose=1,\n",
    "        save_best_only=True, mode='auto', period=10)\n",
    "logfile = CSVLogger(result_root_folder+'/train.log', append=False, separator=',')\n",
    "# adam = keras.optimizers.Adam(lr=0.001)\n",
    "fc_autoencoder.compile(optimizer='adam', loss='mean_squared_error', metrics=['accuracy'])\n",
    "history = fc_autoencoder.fit(x_train, x_train,\n",
    "        batch_size=256,\n",
    "        epochs=3,#50,\n",
    "        verbose=1,\n",
    "        callbacks=[checkpointer, logfile],\n",
    "        shuffle=True,\n",
    "        validation_data=(x_test, x_test),\n",
    "        workers=4)"
   ]
  },
  {
   "cell_type": "code",
   "execution_count": 5,
   "metadata": {},
   "outputs": [
    {
     "data": {
      "image/png": "[encoded data removed]",
      "text/plain": [
       "<Figure size 432x288 with 1 Axes>"
      ]
     },
     "metadata": {
      "needs_background": "light"
     },
     "output_type": "display_data"
    },
    {
     "data": {
      "image/png": "[encoded data removed]",
      "text/plain": [
       "<Figure size 432x288 with 1 Axes>"
      ]
     },
     "metadata": {
      "needs_background": "light"
     },
     "output_type": "display_data"
    }
   ],
   "source": [
    "# Displaying curves of loss and accuracy\n",
    "acc = history.history['accuracy']\n",
    "val_acc = history.history['val_accuracy']\n",
    "loss = history.history['loss']\n",
    "val_loss = history.history['val_loss']\n",
    "epochs = range(1, len(acc) + 1)\n",
    "plt.plot(epochs, acc, 'bo', label='Training acc')\n",
    "plt.plot(epochs, val_acc, 'b', label='Validation acc')\n",
    "plt.title('Training and validation accuracy')\n",
    "plt.legend()\n",
    "plt.savefig(result_root_folder+'/accuracy.png')\n",
    "plt.figure()\n",
    "plt.plot(epochs, loss, 'bo', label='Training loss')\n",
    "plt.plot(epochs, val_loss, 'b', label='Validation loss')\n",
    "plt.title('Training and validation loss')\n",
    "plt.legend()\n",
    "plt.savefig(result_root_folder+'/loss.png')"
   ]
  },
  {
   "cell_type": "code",
   "execution_count": 6,
   "metadata": {},
   "outputs": [
    {
     "name": "stdout",
     "output_type": "stream",
     "text": [
      "(10,)\n"
     ]
    },
    {
     "data": {
      "image/png": "[encoded data removed]",
      "text/plain": [
       "<Figure size 720x144 with 20 Axes>"
      ]
     },
     "metadata": {
      "needs_background": "light"
     },
     "output_type": "display_data"
    }
   ],
   "source": [
    "# Randomly select 10 images from the test set, encode them and visualize the decoded images.\n",
    "np.random.seed(0)\n",
    "n = 10\n",
    "decoded_images = fc_autoencoder.predict(x_test)\n",
    "\n",
    "rand_indices = np.random.randint(x_test.shape[0], size=n)\n",
    "print(rand_indices.shape)\n",
    "plt.figure(figsize=(10, 2))\n",
    "plt.gray()\n",
    "for i in range(n):\n",
    "    ax = plt.subplot(2, n, i + 1)\n",
    "    plt.imshow(x_test[rand_indices[i]].reshape(28, 28))\n",
    "    ax.get_xaxis().set_visible(False)\n",
    "    ax.get_yaxis().set_visible(False)\n",
    "    ax = plt.subplot(2, n, n + i + 1)\n",
    "    plt.imshow(decoded_images[rand_indices[i]].reshape(28, 28))\n",
    "    ax.get_xaxis().set_visible(False)\n",
    "    ax.get_yaxis().set_visible(False)\n",
    "plt.show()"
   ]
  },
  {
   "cell_type": "markdown",
   "metadata": {},
   "source": [
    "2. (35 points) Implement a convolutional AutoEncoder (CAE) that uses only the following types of layers: convolution, pooling, upsampling and transpose. You are limited to use MSE. The encoder and decoder should include one or more layers, with the size and number of filters chosen by you. Start with a bottleneck of size 2, train your model on MNIST and plot the train and test loss. Randomly select 10 images from the test set, encode them and visualize the decoded images. Are the reconstructed images readable for humans? If not, try to find a CAE architecture, including a larger bottleneck, that is powerful enough to generate readable images. The bottleneck should be as small as possible for readability, this is part of the grading criteria."
   ]
  },
  {
   "cell_type": "code",
   "execution_count": 7,
   "metadata": {},
   "outputs": [],
   "source": [
    "# Part 2\n",
    "import tensorflow as tf\n",
    "import numpy as np\n",
    "import matplotlib.pyplot as plt\n",
    "from keras.datasets import mnist\n",
    "from keras.models import Model\n",
    "from keras.layers import Input, Dense, Conv2D, MaxPooling2D, UpSampling2D\n",
    "from keras import optimizers\n",
    "from keras.callbacks import CSVLogger, ModelCheckpoint"
   ]
  },
  {
   "cell_type": "code",
   "execution_count": 8,
   "metadata": {},
   "outputs": [
    {
     "name": "stdout",
     "output_type": "stream",
     "text": [
      "(60000, 28, 28, 1)\n",
      "(10000, 28, 28, 1)\n"
     ]
    }
   ],
   "source": [
    "# Load data if not already loaded\n",
    "(x_train, _), (x_test, _) = mnist.load_data()\n",
    "x_train = x_train.astype('float32') / 255.\n",
    "x_test = x_test.astype('float32') / 255.\n",
    "x_train = x_train.reshape((len(x_train), 28, 28, 1))\n",
    "x_test = x_test.reshape((len(x_test), 28, 28, 1))\n",
    "print(x_train.shape)\n",
    "print(x_test.shape)"
   ]
  },
  {
   "cell_type": "code",
   "execution_count": 9,
   "metadata": {},
   "outputs": [
    {
     "name": "stdout",
     "output_type": "stream",
     "text": [
      "(None, 4, 4, 8)\n",
      "Model: \"conv_autoencoder\"\n",
      "_________________________________________________________________\n",
      "Layer (type)                 Output Shape              Param #   \n",
      "=================================================================\n",
      "input_3 (InputLayer)         (None, 28, 28, 1)         0         \n",
      "_________________________________________________________________\n",
      "conv2d_1 (Conv2D)            (None, 28, 28, 16)        160       \n",
      "_________________________________________________________________\n",
      "max_pooling2d_1 (MaxPooling2 (None, 14, 14, 16)        0         \n",
      "_________________________________________________________________\n",
      "conv2d_2 (Conv2D)            (None, 14, 14, 8)         1160      \n",
      "_________________________________________________________________\n",
      "max_pooling2d_2 (MaxPooling2 (None, 7, 7, 8)           0         \n",
      "_________________________________________________________________\n",
      "conv2d_3 (Conv2D)            (None, 7, 7, 8)           584       \n",
      "_________________________________________________________________\n",
      "max_pooling2d_3 (MaxPooling2 (None, 4, 4, 8)           0         \n",
      "_________________________________________________________________\n",
      "conv2d_4 (Conv2D)            (None, 4, 4, 8)           584       \n",
      "_________________________________________________________________\n",
      "up_sampling2d_1 (UpSampling2 (None, 8, 8, 8)           0         \n",
      "_________________________________________________________________\n",
      "conv2d_5 (Conv2D)            (None, 8, 8, 8)           584       \n",
      "_________________________________________________________________\n",
      "up_sampling2d_2 (UpSampling2 (None, 16, 16, 8)         0         \n",
      "_________________________________________________________________\n",
      "conv2d_6 (Conv2D)            (None, 14, 14, 16)        1168      \n",
      "_________________________________________________________________\n",
      "up_sampling2d_3 (UpSampling2 (None, 28, 28, 16)        0         \n",
      "_________________________________________________________________\n",
      "conv2d_7 (Conv2D)            (None, 28, 28, 1)         145       \n",
      "=================================================================\n",
      "Total params: 4,385\n",
      "Trainable params: 4,385\n",
      "Non-trainable params: 0\n",
      "_________________________________________________________________\n"
     ]
    }
   ],
   "source": [
    "# Build model\n",
    "input_img = Input(shape=(28, 28, 1))\n",
    "x = Conv2D(16, (3, 3), activation='relu', padding='same')(input_img)\n",
    "x = MaxPooling2D((2, 2), padding='same')(x)\n",
    "x = Conv2D(8, (3, 3), activation='relu', padding='same')(x)\n",
    "x = MaxPooling2D((2, 2), padding='same')(x)\n",
    "x = Conv2D(8, (3, 3), activation='relu', padding='same')(x)\n",
    "encoded = MaxPooling2D((2, 2), padding='same')(x)\n",
    "print(encoded.shape)\n",
    "x = Conv2D(8, (3, 3), activation='relu', padding='same')(encoded)\n",
    "x = UpSampling2D((2, 2))(x)\n",
    "x = Conv2D(8, (3, 3), activation='relu', padding='same')(x)\n",
    "x = UpSampling2D((2, 2))(x)\n",
    "x = Conv2D(16, (3, 3), activation='relu')(x)\n",
    "x = UpSampling2D((2, 2))(x)\n",
    "outputs = Conv2D(1, (3, 3), activation='sigmoid', padding='same')(x)\n",
    "\n",
    "conv_autoencoder = Model(input_img, outputs, name='conv_autoencoder')\n",
    "conv_autoencoder.summary()"
   ]
  },
  {
   "cell_type": "code",
   "execution_count": 10,
   "metadata": {},
   "outputs": [
    {
     "name": "stdout",
     "output_type": "stream",
     "text": [
      "Train on 60000 samples, validate on 10000 samples\n",
      "Epoch 1/3\n",
      "60000/60000 [==============================] - 32s 531us/step - loss: 0.1248 - accuracy: 0.7987 - val_loss: 0.1140 - val_accuracy: 0.8072\n",
      "Epoch 2/3\n",
      "60000/60000 [==============================] - 35s 577us/step - loss: 0.1120 - accuracy: 0.8088 - val_loss: 0.1140 - val_accuracy: 0.8072\n",
      "Epoch 3/3\n",
      "60000/60000 [==============================] - 36s 595us/step - loss: 0.1120 - accuracy: 0.8088 - val_loss: 0.1140 - val_accuracy: 0.8072\n"
     ]
    }
   ],
   "source": [
    "# Training\n",
    "result_root_folder = 'conv_autoencoder'\n",
    "checkpointer = ModelCheckpoint(\n",
    "        filepath=result_root_folder+'/epoch-{epoch:02d}-accu-{val_accuracy:.4f}.hdf5',\n",
    "        monitor='val_accuracy',\n",
    "        verbose=1,\n",
    "        save_best_only=True, mode='auto', period=10)\n",
    "logfile = CSVLogger(result_root_folder+'/train.log', append=False, separator=',')\n",
    "# adam = keras.optimizers.Adam(lr=0.001)\n",
    "conv_autoencoder.compile(optimizer='adam', loss='mean_squared_error', metrics=['accuracy'])\n",
    "history = conv_autoencoder.fit(x_train, x_train,\n",
    "        batch_size=256,\n",
    "        epochs=3,#50,\n",
    "        verbose=1,\n",
    "        callbacks=[checkpointer, logfile],\n",
    "        shuffle=True,\n",
    "        validation_data=(x_test, x_test),\n",
    "        workers=4)"
   ]
  },
  {
   "cell_type": "code",
   "execution_count": 11,
   "metadata": {},
   "outputs": [
    {
     "data": {
      "image/png": "[encoded data removed]",
      "text/plain": [
       "<Figure size 432x288 with 1 Axes>"
      ]
     },
     "metadata": {
      "needs_background": "light"
     },
     "output_type": "display_data"
    },
    {
     "data": {
      "image/png": "[encoded data removed]",
      "text/plain": [
       "<Figure size 432x288 with 1 Axes>"
      ]
     },
     "metadata": {
      "needs_background": "light"
     },
     "output_type": "display_data"
    }
   ],
   "source": [
    "# Displaying curves of loss and accuracy\n",
    "acc = history.history['accuracy']\n",
    "val_acc = history.history['val_accuracy']\n",
    "loss = history.history['loss']\n",
    "val_loss = history.history['val_loss']\n",
    "epochs = range(1, len(acc) + 1)\n",
    "plt.plot(epochs, acc, 'bo', label='Training acc')\n",
    "plt.plot(epochs, val_acc, 'b', label='Validation acc')\n",
    "plt.title('Training and validation accuracy')\n",
    "plt.legend()\n",
    "plt.savefig(result_root_folder+'/accuracy.png')\n",
    "plt.figure()\n",
    "plt.plot(epochs, loss, 'bo', label='Training loss')\n",
    "plt.plot(epochs, val_loss, 'b', label='Validation loss')\n",
    "plt.title('Training and validation loss')\n",
    "plt.legend()\n",
    "plt.savefig(result_root_folder+'/loss.png')"
   ]
  },
  {
   "cell_type": "code",
   "execution_count": 12,
   "metadata": {},
   "outputs": [
    {
     "data": {
      "image/png": "[encoded data removed]",
      "text/plain": [
       "<Figure size 720x144 with 18 Axes>"
      ]
     },
     "metadata": {
      "needs_background": "light"
     },
     "output_type": "display_data"
    }
   ],
   "source": [
    "# Randomly select 10 images from the test set, encode them and visualize the decoded images.\n",
    "np.random.seed(0)\n",
    "n = 10\n",
    "decoded_images = conv_autoencoder.predict(x_test)\n",
    "\n",
    "rand_indices = np.random.randint(x_test.shape[0], size=n)\n",
    "plt.figure(figsize=(10, 2))\n",
    "plt.gray()\n",
    "for i in range(1, n):\n",
    "    ax = plt.subplot(2, n, i)\n",
    "    plt.imshow(x_test[rand_indices[i]].reshape(28, 28))\n",
    "    ax.get_xaxis().set_visible(False)\n",
    "    ax.get_yaxis().set_visible(False)\n",
    "    ax = plt.subplot(2, n, n + i)\n",
    "    plt.imshow(decoded_images[rand_indices[i]].reshape(28, 28))\n",
    "    ax.get_xaxis().set_visible(False)\n",
    "    ax.get_yaxis().set_visible(False)\n",
    "plt.show()"
   ]
  },
  {
   "cell_type": "markdown",
   "metadata": {},
   "source": [
    "3. (35 points) This question is about using an AutoEncoder to generate similar but not identical hand digits. We use a naive approach: Try to see if a trained decoder can map randomly generated inputs (random numbers) to a recognizable hand-written digit. \n",
    "    1. Start with your Fully Connected and trained AutoEncoder from part 1. Try to generate new images by inputting some random numbers  to the decoder (i.e. the bottleneck layer) and report your results. Hint: This is not easy. You probably want to input at least 10 random numbers. \n",
    "    2. Now restrict the AutoEncoder hidden bottleneck layer(s) to have a standard multi-variate normal distribution with mean zeroes and the identity matrix as variance (i.e. no correlations). Retrain the Fully Connected AutoEncoder with the normalized bottleneck. Now randomly generate inputs to the bottleneck layer that are drawn from the multi-variate standard normal distribution, and use the random inputs to generate new images. Report your result.\n",
    "    3. Are the output images different between 1) and 2)? If so, why do you think this difference occurs?"
   ]
  },
  {
   "cell_type": "code",
   "execution_count": 13,
   "metadata": {},
   "outputs": [
    {
     "name": "stdout",
     "output_type": "stream",
     "text": [
      "[[5 0]\n",
      " [3 3]\n",
      " [7 9]\n",
      " [3 5]\n",
      " [2 4]\n",
      " [7 6]\n",
      " [8 8]\n",
      " [1 6]\n",
      " [7 7]\n",
      " [8 1]]\n"
     ]
    },
    {
     "data": {
      "image/png": "[encoded data removed]",
      "text/plain": [
       "<Figure size 720x72 with 10 Axes>"
      ]
     },
     "metadata": {
      "needs_background": "light"
     },
     "output_type": "display_data"
    }
   ],
   "source": [
    "# Part 3A\n",
    "# encoded_images = fc_encoder.predict(x_test)\n",
    "# print(encoded[0:10])\n",
    "\n",
    "np.random.seed(0)\n",
    "n = 10\n",
    "rand_nums = np.random.randint(10, size=(n, 2))\n",
    "print(rand_nums)\n",
    "decoded_images = fc_decoder.predict(rand_nums)\n",
    "\n",
    "plt.figure(figsize=(n, 1))\n",
    "plt.gray()\n",
    "\n",
    "for i in range(n):\n",
    "    ax = plt.subplot(1, n, i+1)\n",
    "    plt.imshow(decoded_images[i].reshape(28, 28))\n",
    "    ax.get_xaxis().set_visible(False)\n",
    "    ax.get_yaxis().set_visible(False)\n",
    "plt.show()"
   ]
  },
  {
   "cell_type": "code",
   "execution_count": 14,
   "metadata": {},
   "outputs": [],
   "source": [
    "# Part 3B\n",
    "import tensorflow as tf\n",
    "import numpy as np\n",
    "# from scipy.stats import norm\n",
    "from scipy.stats import multivariate_normal\n",
    "import matplotlib.pyplot as plt\n",
    "from keras.datasets import mnist\n",
    "from keras.models import Model\n",
    "from keras.layers import Input, Dense, Lambda\n",
    "from keras import backend as K\n",
    "from keras.callbacks import CSVLogger, ModelCheckpoint"
   ]
  },
  {
   "cell_type": "code",
   "execution_count": 15,
   "metadata": {},
   "outputs": [
    {
     "name": "stdout",
     "output_type": "stream",
     "text": [
      "x_train shape:  (60000, 784)\n",
      "x_test shape:  (10000, 784)\n"
     ]
    }
   ],
   "source": [
    "# Load data if not loaded\n",
    "(x_train, _), (x_test, _) = mnist.load_data()\n",
    "x_train = x_train.astype('float32') / 255.\n",
    "x_test = x_test.astype('float32') / 255.\n",
    "x_train = x_train.reshape((len(x_train), np.prod(x_train.shape[1:])))\n",
    "x_test = x_test.reshape((len(x_test), np.prod(x_test.shape[1:])))\n",
    "print('x_train shape: ', x_train.shape)\n",
    "print('x_test shape: ', x_test.shape)"
   ]
  },
  {
   "cell_type": "code",
   "execution_count": 20,
   "metadata": {},
   "outputs": [
    {
     "name": "stdout",
     "output_type": "stream",
     "text": [
      "Model: \"fc_norm_encoder\"\n",
      "__________________________________________________________________________________________________\n",
      "Layer (type)                    Output Shape         Param #     Connected to                     \n",
      "==================================================================================================\n",
      "input_11 (InputLayer)           (None, 784)          0                                            \n",
      "__________________________________________________________________________________________________\n",
      "dense_32 (Dense)                (None, 32)           25120       input_11[0][0]                   \n",
      "__________________________________________________________________________________________________\n",
      "dense_33 (Dense)                (None, 16)           528         dense_32[0][0]                   \n",
      "__________________________________________________________________________________________________\n",
      "dense_34 (Dense)                (None, 2)            34          dense_33[0][0]                   \n",
      "__________________________________________________________________________________________________\n",
      "dense_35 (Dense)                (None, 2)            34          dense_33[0][0]                   \n",
      "__________________________________________________________________________________________________\n",
      "lambda_5 (Lambda)               (None, 2)            0           dense_34[0][0]                   \n",
      "                                                                 dense_35[0][0]                   \n",
      "==================================================================================================\n",
      "Total params: 25,716\n",
      "Trainable params: 25,716\n",
      "Non-trainable params: 0\n",
      "__________________________________________________________________________________________________\n",
      "Model: \"fc_norm_decoder\"\n",
      "_________________________________________________________________\n",
      "Layer (type)                 Output Shape              Param #   \n",
      "=================================================================\n",
      "input_12 (InputLayer)        (None, 2)                 0         \n",
      "_________________________________________________________________\n",
      "dense_36 (Dense)             (None, 16)                48        \n",
      "_________________________________________________________________\n",
      "dense_37 (Dense)             (None, 32)                544       \n",
      "_________________________________________________________________\n",
      "dense_38 (Dense)             (None, 784)               25872     \n",
      "=================================================================\n",
      "Total params: 26,464\n",
      "Trainable params: 26,464\n",
      "Non-trainable params: 0\n",
      "_________________________________________________________________\n",
      "Model: \"fc_autoencoder\"\n",
      "_________________________________________________________________\n",
      "Layer (type)                 Output Shape              Param #   \n",
      "=================================================================\n",
      "input_11 (InputLayer)        (None, 784)               0         \n",
      "_________________________________________________________________\n",
      "fc_norm_encoder (Model)      (None, 2)                 25716     \n",
      "_________________________________________________________________\n",
      "fc_norm_decoder (Model)      (None, 784)               26464     \n",
      "=================================================================\n",
      "Total params: 52,180\n",
      "Trainable params: 52,180\n",
      "Non-trainable params: 0\n",
      "_________________________________________________________________\n"
     ]
    }
   ],
   "source": [
    "# Build model\n",
    "input_dim = x_train.shape[1] # 784\n",
    "intermidiate1_dim = 32\n",
    "intermidiate2_dim = 16\n",
    "latent_dim = 2\n",
    "\n",
    "def sampling(args):\n",
    "    z_mean, z_log_var = args\n",
    "    epsilon = K.random_normal(shape=(K.shape(z_mean)[0], latent_dim))\n",
    "    return z_mean + K.exp(0.5 * z_log_var) * epsilon\n",
    "\n",
    "# Encoder\n",
    "input_img = Input(shape=(input_dim,))\n",
    "x = Dense(intermidiate1_dim, activation='relu')(input_img)\n",
    "x = Dense(intermidiate2_dim, activation='relu')(x)\n",
    "z_mean = Dense(latent_dim)(x)\n",
    "z_log_var = Dense(latent_dim)(x)\n",
    "z = Lambda(sampling, output_shape=(latent_dim,))([z_mean, z_log_var])\n",
    "\n",
    "fc_norm_encoder = Model(input_img, z, name='fc_norm_encoder')\n",
    "fc_norm_encoder.summary()\n",
    "\n",
    "# Decoder\n",
    "latent_inputs = Input(shape=(latent_dim,))\n",
    "x = Dense(intermidiate2_dim, activation='relu')(latent_inputs)\n",
    "x = Dense(intermidiate1_dim, activation='relu')(x)\n",
    "decoded = Dense(input_dim, activation='sigmoid')(x)\n",
    "\n",
    "fc_norm_decoder = Model(latent_inputs, decoded, name='fc_norm_decoder')\n",
    "fc_norm_decoder.summary()\n",
    "\n",
    "# FC-normalized-autoencoder\n",
    "outputs = fc_norm_decoder(fc_norm_encoder(input_img))\n",
    "fc_norm_autoencoder = Model(input_img, outputs, name='fc_autoencoder')\n",
    "fc_norm_autoencoder.summary()"
   ]
  },
  {
   "cell_type": "code",
   "execution_count": 21,
   "metadata": {},
   "outputs": [
    {
     "name": "stdout",
     "output_type": "stream",
     "text": [
      "Train on 60000 samples, validate on 10000 samples\n",
      "Epoch 1/3\n",
      "60000/60000 [==============================] - 1s 23us/step - loss: 0.0862 - accuracy: 0.0093 - val_loss: 0.0662 - val_accuracy: 0.0137\n",
      "Epoch 2/3\n",
      "60000/60000 [==============================] - 1s 20us/step - loss: 0.0639 - accuracy: 0.0095 - val_loss: 0.0618 - val_accuracy: 0.0077\n",
      "Epoch 3/3\n",
      "60000/60000 [==============================] - 1s 19us/step - loss: 0.0605 - accuracy: 0.0094 - val_loss: 0.0591 - val_accuracy: 0.0068\n"
     ]
    }
   ],
   "source": [
    "# Training\n",
    "result_root_folder = 'fc_norm_autoencoder'\n",
    "checkpointer = ModelCheckpoint(\n",
    "        filepath=result_root_folder+'/epoch-{epoch:02d}-accu-{val_accuracy:.4f}.hdf5',\n",
    "        monitor='val_accuracy',\n",
    "        verbose=1,\n",
    "        save_best_only=True, mode='auto', period=10)\n",
    "logfile = CSVLogger(result_root_folder+'/train.log', append=False, separator=',')\n",
    "# adam = keras.optimizers.Adam(lr=0.001)\n",
    "fc_norm_autoencoder.compile(optimizer='adam', loss='mean_squared_error', metrics=['accuracy'])\n",
    "history = fc_norm_autoencoder.fit(x_train, x_train,\n",
    "        batch_size=256,\n",
    "        epochs=3,#50,\n",
    "        verbose=1,\n",
    "        callbacks=[checkpointer, logfile],\n",
    "        shuffle=True,\n",
    "        validation_data=(x_test, x_test),\n",
    "        workers=4)"
   ]
  },
  {
   "cell_type": "code",
   "execution_count": 22,
   "metadata": {},
   "outputs": [
    {
     "data": {
      "image/png": "[encoded data removed]",
      "text/plain": [
       "<Figure size 432x288 with 1 Axes>"
      ]
     },
     "metadata": {
      "needs_background": "light"
     },
     "output_type": "display_data"
    },
    {
     "data": {
      "image/png": "[encoded data removed]",
      "text/plain": [
       "<Figure size 432x288 with 1 Axes>"
      ]
     },
     "metadata": {
      "needs_background": "light"
     },
     "output_type": "display_data"
    }
   ],
   "source": [
    "# Displaying curves of loss and accuracy\n",
    "acc = history.history['accuracy']\n",
    "val_acc = history.history['val_accuracy']\n",
    "loss = history.history['loss']\n",
    "val_loss = history.history['val_loss']\n",
    "epochs = range(1, len(acc) + 1)\n",
    "plt.plot(epochs, acc, 'bo', label='Training acc')\n",
    "plt.plot(epochs, val_acc, 'b', label='Validation acc')\n",
    "plt.title('Training and validation accuracy')\n",
    "plt.legend()\n",
    "plt.savefig(result_root_folder+'/accuracy.png')\n",
    "plt.figure()\n",
    "plt.plot(epochs, loss, 'bo', label='Training loss')\n",
    "plt.plot(epochs, val_loss, 'b', label='Validation loss')\n",
    "plt.title('Training and validation loss')\n",
    "plt.legend()\n",
    "plt.savefig(result_root_folder+'/loss.png')"
   ]
  },
  {
   "cell_type": "code",
   "execution_count": 23,
   "metadata": {},
   "outputs": [
    {
     "name": "stdout",
     "output_type": "stream",
     "text": [
      "[[0.         0.39894228]\n",
      " [0.11111111 0.39648726]\n",
      " [0.22222222 0.38921247]\n",
      " [0.33333333 0.37738323]\n",
      " [0.44444444 0.36142383]\n",
      " [0.55555556 0.34189229]\n",
      " [0.66666667 0.31944801]\n",
      " [0.77777778 0.29481487]\n",
      " [0.88888889 0.26874286]\n",
      " [1.         0.24197072]]\n"
     ]
    },
    {
     "data": {
      "image/png": "[encoded data removed]",
      "text/plain": [
       "<Figure size 720x72 with 10 Axes>"
      ]
     },
     "metadata": {
      "needs_background": "light"
     },
     "output_type": "display_data"
    }
   ],
   "source": [
    "# Visualize the generated images.\n",
    "np.random.seed(0)\n",
    "n = 10\n",
    "x = np.linspace(0, 1, n).reshape(n, 1)\n",
    "y = multivariate_normal.pdf(x, mean=0, cov=1.0).reshape(n, 1);\n",
    "rand_nums = np.concatenate((x, y), axis=1)\n",
    "print(rand_nums)\n",
    "\n",
    "decoded_images = fc_norm_decoder.predict(rand_nums)\n",
    "\n",
    "plt.figure(figsize=(n, 1))\n",
    "plt.gray()\n",
    "for i in range(n):\n",
    "    ax = plt.subplot(1, n, i+1)\n",
    "    plt.imshow(decoded_images[i].reshape(28, 28))\n",
    "    ax.get_xaxis().set_visible(False)\n",
    "    ax.get_yaxis().set_visible(False)\n",
    "plt.show()"
   ]
  },
  {
   "cell_type": "code",
   "execution_count": 24,
   "metadata": {},
   "outputs": [],
   "source": [
    "# Part 3C\n",
    "# Are the output images different between 1) and 2)? If so, why do you think this difference occurs?"
   ]
  },
  {
   "cell_type": "markdown",
   "metadata": {},
   "source": [
    "4. (20 points) Optional: change the AutoEncoder which you developed in the last part of section 3 so that it becomes a Variational AutoEncoder (Introduced by Kingma 2014; see Chapter 7.1). Does the VAE produce a different quality of output image?"
   ]
  },
  {
   "cell_type": "code",
   "execution_count": 1,
   "metadata": {},
   "outputs": [
    {
     "name": "stderr",
     "output_type": "stream",
     "text": [
      "Using TensorFlow backend.\n"
     ]
    }
   ],
   "source": [
    "import tensorflow as tf\n",
    "import numpy as np\n",
    "# from scipy.stats import norm\n",
    "from scipy.stats import multivariate_normal\n",
    "import matplotlib.pyplot as plt\n",
    "from keras.datasets import mnist\n",
    "from keras.models import Model\n",
    "from keras.layers import Input, Dense, Lambda\n",
    "from keras import backend as K\n",
    "from keras.losses import mse, binary_crossentropy\n",
    "from keras.callbacks import CSVLogger, ModelCheckpoint"
   ]
  },
  {
   "cell_type": "code",
   "execution_count": 2,
   "metadata": {},
   "outputs": [
    {
     "name": "stdout",
     "output_type": "stream",
     "text": [
      "x_train shape:  (60000, 784)\n",
      "x_test shape:  (10000, 784)\n"
     ]
    }
   ],
   "source": [
    "# Load data if not loaded\n",
    "(x_train, _), (x_test, _) = mnist.load_data()\n",
    "x_train = x_train.astype('float32') / 255.\n",
    "x_test = x_test.astype('float32') / 255.\n",
    "x_train = x_train.reshape((len(x_train), np.prod(x_train.shape[1:])))\n",
    "x_test = x_test.reshape((len(x_test), np.prod(x_test.shape[1:])))\n",
    "print('x_train shape: ', x_train.shape)\n",
    "print('x_test shape: ', x_test.shape)"
   ]
  },
  {
   "cell_type": "code",
   "execution_count": 41,
   "metadata": {},
   "outputs": [
    {
     "name": "stdout",
     "output_type": "stream",
     "text": [
      "Model: \"vae_encoder\"\n",
      "__________________________________________________________________________________________________\n",
      "Layer (type)                    Output Shape         Param #     Connected to                     \n",
      "==================================================================================================\n",
      "input_39 (InputLayer)           (None, 784)          0                                            \n",
      "__________________________________________________________________________________________________\n",
      "dense_132 (Dense)               (None, 32)           25120       input_39[0][0]                   \n",
      "__________________________________________________________________________________________________\n",
      "dense_133 (Dense)               (None, 16)           528         dense_132[0][0]                  \n",
      "__________________________________________________________________________________________________\n",
      "dense_134 (Dense)               (None, 2)            34          dense_133[0][0]                  \n",
      "__________________________________________________________________________________________________\n",
      "dense_135 (Dense)               (None, 2)            34          dense_133[0][0]                  \n",
      "__________________________________________________________________________________________________\n",
      "lambda_20 (Lambda)              (None, 2)            0           dense_134[0][0]                  \n",
      "                                                                 dense_135[0][0]                  \n",
      "==================================================================================================\n",
      "Total params: 25,716\n",
      "Trainable params: 25,716\n",
      "Non-trainable params: 0\n",
      "__________________________________________________________________________________________________\n",
      "Model: \"vae_decoder\"\n",
      "_________________________________________________________________\n",
      "Layer (type)                 Output Shape              Param #   \n",
      "=================================================================\n",
      "input_40 (InputLayer)        (None, 2)                 0         \n",
      "_________________________________________________________________\n",
      "dense_136 (Dense)            (None, 16)                48        \n",
      "_________________________________________________________________\n",
      "dense_137 (Dense)            (None, 32)                544       \n",
      "_________________________________________________________________\n",
      "dense_138 (Dense)            (None, 784)               25872     \n",
      "=================================================================\n",
      "Total params: 26,464\n",
      "Trainable params: 26,464\n",
      "Non-trainable params: 0\n",
      "_________________________________________________________________\n",
      "Model: \"vae\"\n",
      "_________________________________________________________________\n",
      "Layer (type)                 Output Shape              Param #   \n",
      "=================================================================\n",
      "input_39 (InputLayer)        (None, 784)               0         \n",
      "_________________________________________________________________\n",
      "vae_encoder (Model)          [(None, 2), (None, 2), (N 25716     \n",
      "_________________________________________________________________\n",
      "vae_decoder (Model)          (None, 784)               26464     \n",
      "=================================================================\n",
      "Total params: 52,180\n",
      "Trainable params: 52,180\n",
      "Non-trainable params: 0\n",
      "_________________________________________________________________\n"
     ]
    }
   ],
   "source": [
    "# Build model\n",
    "input_dim = x_train.shape[1] # 784\n",
    "intermidiate1_dim = 32\n",
    "intermidiate2_dim = 16\n",
    "latent_dim = 2\n",
    "\n",
    "def sampling(args):\n",
    "    z_mean, z_log_var = args\n",
    "    epsilon = K.random_normal(shape=(K.shape(z_mean)[0], latent_dim))\n",
    "    return z_mean + K.exp(0.5 * z_log_var) * epsilon\n",
    "\n",
    "# Encoder\n",
    "input_img = Input(shape=(input_dim,))\n",
    "x = Dense(intermidiate1_dim, activation='relu')(input_img)\n",
    "x = Dense(intermidiate2_dim, activation='relu')(x)\n",
    "\n",
    "z_mean = Dense(latent_dim)(x)\n",
    "z_log_var = Dense(latent_dim)(x)\n",
    "z = Lambda(sampling, output_shape=(latent_dim,))([z_mean, z_log_var])\n",
    "\n",
    "vae_encoder = Model(input_img, [z_mean, z_log_var, z], name='vae_encoder')\n",
    "vae_encoder.summary()\n",
    "\n",
    "# Decoder\n",
    "latent_inputs = Input(shape=(latent_dim,))\n",
    "x = Dense(intermidiate2_dim, activation='relu')(latent_inputs)\n",
    "x = Dense(intermidiate1_dim, activation='relu')(x)\n",
    "decoded = Dense(input_dim, activation='sigmoid')(x)\n",
    "\n",
    "vae_decoder = Model(latent_inputs, decoded, name='vae_decoder')\n",
    "vae_decoder.summary()\n",
    "\n",
    "# VAE model\n",
    "outputs = vae_decoder(vae_encoder(input_img)[2])\n",
    "vae = Model(input_img, outputs, name='vae')\n",
    "vae.summary()"
   ]
  },
  {
   "cell_type": "code",
   "execution_count": 42,
   "metadata": {},
   "outputs": [
    {
     "name": "stdout",
     "output_type": "stream",
     "text": [
      "Train on 60000 samples, validate on 10000 samples\n",
      "Epoch 1/1\n",
      "60000/60000 [==============================] - 2s 34us/step - loss: 228.9027 - val_loss: 190.9836\n"
     ]
    }
   ],
   "source": [
    "# Train\n",
    "result_root_folder = 'vae'\n",
    "checkpointer = ModelCheckpoint(\n",
    "        filepath=result_root_folder+'/epoch-{epoch:02d}-accu-{val_accuracy:.4f}.hdf5',\n",
    "        monitor='val_accuracy',\n",
    "        verbose=1,\n",
    "        save_best_only=True, mode='auto', period=10)\n",
    "logfile = CSVLogger(result_root_folder+'/train.log', append=False, separator=',')\n",
    "\n",
    "# Compute VAE loss = mse_loss/xent_loss + kl_loss\n",
    "xent_loss = input_dim * binary_crossentropy(input_img, outputs)\n",
    "# mse_loss = input_dim * mse(input_img, outputs)\n",
    "kl_loss = - 0.5 * K.sum(1 + z_log_var - K.square(z_mean) - K.exp(z_log_var), axis=-1)\n",
    "vae_loss = K.mean(xent_loss + kl_loss)\n",
    "vae.add_loss(vae_loss)\n",
    "\n",
    "# adam = keras.optimizers.Adam(lr=0.001)\n",
    "vae.compile(optimizer='adam', metrics=['accuracy'])\n",
    "\n",
    "history = vae.fit(x_train,\n",
    "        batch_size=128,\n",
    "        epochs=1,#50,\n",
    "        verbose=1,\n",
    "        callbacks=[checkpointer, logfile],\n",
    "        shuffle=True,\n",
    "        validation_data=(x_test, None),\n",
    "        workers=4)"
   ]
  },
  {
   "cell_type": "code",
   "execution_count": 40,
   "metadata": {},
   "outputs": [
    {
     "name": "stdout",
     "output_type": "stream",
     "text": [
      "[[0.         0.39894228]\n",
      " [0.11111111 0.39648726]\n",
      " [0.22222222 0.38921247]\n",
      " [0.33333333 0.37738323]\n",
      " [0.44444444 0.36142383]\n",
      " [0.55555556 0.34189229]\n",
      " [0.66666667 0.31944801]\n",
      " [0.77777778 0.29481487]\n",
      " [0.88888889 0.26874286]\n",
      " [1.         0.24197072]]\n"
     ]
    },
    {
     "data": {
      "image/png": "[encoded data removed]",
      "text/plain": [
       "<Figure size 720x72 with 10 Axes>"
      ]
     },
     "metadata": {
      "needs_background": "light"
     },
     "output_type": "display_data"
    }
   ],
   "source": [
    "# Visualize the generated images.\n",
    "np.random.seed(0)\n",
    "n = 10\n",
    "x = np.linspace(0, 1, n).reshape(n, 1)\n",
    "y = multivariate_normal.pdf(x, mean=0, cov=1.0).reshape(n, 1);\n",
    "# x = norm.ppf(np.linspace(0.05, 0.95, n)).reshape(n, 1)\n",
    "# y = norm.ppf(np.linspace(0.05, 0.95, n)).reshape(n, 1)\n",
    "z_sample = np.concatenate((x, y), axis=1)\n",
    "print(z_sample)\n",
    "\n",
    "decoded_images = vae_decoder.predict(z_sample)\n",
    "\n",
    "plt.figure(figsize=(n, 1))\n",
    "plt.gray()\n",
    "for i in range(n):\n",
    "    ax = plt.subplot(1, n, i+1)\n",
    "    plt.imshow(decoded_images[i].reshape(28, 28))\n",
    "    ax.get_xaxis().set_visible(False)\n",
    "    ax.get_yaxis().set_visible(False)\n",
    "plt.show()"
   ]
  },
  {
   "cell_type": "code",
   "execution_count": null,
   "metadata": {},
   "outputs": [],
   "source": []
  }
 ],
 "metadata": {
  "kernelspec": {
   "display_name": "Python 3",
   "language": "python",
   "name": "python3"
  },
  "language_info": {
   "codemirror_mode": {
    "name": "ipython",
    "version": 3
   },
   "file_extension": ".py",
   "mimetype": "text/x-python",
   "name": "python",
   "nbconvert_exporter": "python",
   "pygments_lexer": "ipython3",
   "version": "3.7.6"
  }
 },
 "nbformat": 4,
 "nbformat_minor": 2
}
